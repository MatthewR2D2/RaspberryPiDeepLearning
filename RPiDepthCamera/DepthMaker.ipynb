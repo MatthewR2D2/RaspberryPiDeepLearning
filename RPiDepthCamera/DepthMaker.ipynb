{
 "cells": [
  {
   "cell_type": "code",
   "execution_count": 1,
   "metadata": {},
   "outputs": [],
   "source": [
    "import cv2\n",
    "import numpy as np\n",
    "import json\n",
    "from stereovision.calibration import StereoCalibrator\n",
    "from stereovision.calibration import StereoCalibration\n",
    "import arducam_mipicamera as arducam"
   ]
  },
  {
   "cell_type": "code",
   "execution_count": 2,
   "metadata": {},
   "outputs": [],
   "source": [
    "try:\n",
    "    camera_params = json.load(open(\"camera_params.txt\", 'r'))\n",
    "except Exception as e:\n",
    "    print(e)\n",
    "    print(\"Cant find param test run calibartion in steror calibrator\")"
   ]
  },
  {
   "cell_type": "code",
   "execution_count": 3,
   "metadata": {},
   "outputs": [],
   "source": [
    "# Alignment adjusters\n",
    "def align_down(size, align):\n",
    "    return (size & ~((align)-1))\n",
    "\n",
    "def align_up(size, align):\n",
    "    return align_down(size + align - 1, align)\n",
    "\n",
    "def get_frame(camera):\n",
    "    frame = camera.capture(encoding = 'i420')\n",
    "    fmt = camera.get_format()\n",
    "    height = int(align_up(fmt['height'], 16))\n",
    "    width = int(align_up(fmt['width'], 32))\n",
    "    image = frame.as_array.reshape(int(height * 1.5), width)\n",
    "    image = cv2.cvtColor(image, cv2.COLOR_YUV2BGR_I420)\n",
    "    image = image[:fmt['height'], :fmt['width']]\n",
    "    return image"
   ]
  },
  {
   "cell_type": "code",
   "execution_count": 4,
   "metadata": {},
   "outputs": [],
   "source": [
    "def stereo_depth_map(rectified_pair):\n",
    "    dmLeft = rectified_pair[0]\n",
    "    dmRight = rectified_pair[1]\n",
    "    disparity = sbm.compute(dmLeft, dmRight)\n",
    "    local_max = disparity.max()\n",
    "    local_min = disparity.min()\n",
    "    disparity_grayscale = (disparity-local_min)*(65535.0/(local_max-local_min))\n",
    "    disparity_fixtype = cv2.convertScaleAbs(disparity_grayscale, alpha=(255.0/65535.0))\n",
    "    disparity_color = cv2.applyColorMap(disparity_fixtype, cv2.COLORMAP_JET)\n",
    "    return disparity_color\n",
    "\n",
    "def load_map_settings( fName ):\n",
    "    global SWS, PFS, PFC, MDS, NOD, TTH, UR, SR, SPWS, loading_settings\n",
    "    print('Loading parameters from file...')\n",
    "    f=open(fName, 'r')\n",
    "    data = json.load(f)\n",
    "    SWS=data['SADWindowSize']\n",
    "    PFS=data['preFilterSize']\n",
    "    PFC=data['preFilterCap']\n",
    "    MDS=data['minDisparity']\n",
    "    NOD=data['numberOfDisparities']\n",
    "    TTH=data['textureThreshold']\n",
    "    UR=data['uniquenessRatio']\n",
    "    SR=data['speckleRange']\n",
    "    SPWS=data['speckleWindowSize']    \n",
    "    #sbm.setSADWindowSize(SWS)\n",
    "    sbm.setPreFilterType(1)\n",
    "    sbm.setPreFilterSize(PFS)\n",
    "    sbm.setPreFilterCap(PFC)\n",
    "    sbm.setMinDisparity(MDS)\n",
    "    sbm.setNumDisparities(NOD)\n",
    "    sbm.setTextureThreshold(TTH)\n",
    "    sbm.setUniquenessRatio(UR)\n",
    "    sbm.setSpeckleRange(SR)\n",
    "    sbm.setSpeckleWindowSize(SPWS)\n",
    "    f.close()\n",
    "    print ('Parameters loaded from file '+fName)"
   ]
  },
  {
   "cell_type": "code",
   "execution_count": 5,
   "metadata": {},
   "outputs": [],
   "source": [
    "def simple_depth(rectified_pair, sbm):\n",
    "    dmLeft = rectified_pair[0]\n",
    "    dmRight = rectified_pair[1]\n",
    "    disparity = sbm.compute(dmLeft, dmRight)\n",
    "    return disparity"
   ]
  },
  {
   "cell_type": "code",
   "execution_count": 6,
   "metadata": {},
   "outputs": [
    {
     "name": "stdout",
     "output_type": "stream",
     "text": [
      "Open camera...\n",
      "Current mode: 10,resolution: 1280x480\n",
      "Scaled image resolution: 1280 x 480\n"
     ]
    }
   ],
   "source": [
    "# Initialize the camera\n",
    "camera = arducam.mipi_camera()\n",
    "print(\"Open camera...\")\n",
    "camera.init_camera()\n",
    "mode = camera_params['mode']\n",
    "camera.set_mode(mode)\n",
    "fmt = camera.get_format()\n",
    "print(\"Current mode: {},resolution: {}x{}\".format(fmt['mode'], fmt['width'], fmt['height']))\n",
    "# Camera settimgs\n",
    "cam_width = fmt['width']\n",
    "cam_height = fmt['height']\n",
    "\n",
    "img_width= camera_params['width']\n",
    "img_height = camera_params['height']\n",
    "print (\"Scaled image resolution: \"+str(img_width)+\" x \"+str(img_height))\n",
    "\n"
   ]
  },
  {
   "cell_type": "code",
   "execution_count": 7,
   "metadata": {},
   "outputs": [
    {
     "name": "stdout",
     "output_type": "stream",
     "text": [
      "Read calibration data and rectifying stereo pair...\n"
     ]
    }
   ],
   "source": [
    "# camera.set_control(0x00980911, 1000)\n",
    "# Implementing calibration data\n",
    "print('Read calibration data and rectifying stereo pair...')\n",
    "calibration = StereoCalibration(input_folder='calib_result')"
   ]
  },
  {
   "cell_type": "code",
   "execution_count": 8,
   "metadata": {},
   "outputs": [
    {
     "name": "stdout",
     "output_type": "stream",
     "text": [
      "Loading parameters from file...\n",
      "Parameters loaded from file 3dmap_set.txt\n"
     ]
    }
   ],
   "source": [
    "# Initialize interface windows\n",
    "cv2.namedWindow(\"Image\")\n",
    "cv2.moveWindow(\"Image\", 50,100)\n",
    "cv2.namedWindow(\"left\")\n",
    "cv2.moveWindow(\"left\", 450,100)\n",
    "cv2.namedWindow(\"right\")\n",
    "cv2.moveWindow(\"right\", 850,100)\n",
    "#This controsl the size of the shapes\n",
    "disparity = np.zeros((img_width, img_height), np.uint8)\n",
    "sbm = cv2.StereoBM_create(numDisparities=10, blockSize=5)\n",
    "load_map_settings (\"3dmap_set.txt\")"
   ]
  },
  {
   "cell_type": "code",
   "execution_count": 11,
   "metadata": {},
   "outputs": [
    {
     "name": "stderr",
     "output_type": "stream",
     "text": [
      "/home/pi/.virtualenvs/cv/lib/python3.7/site-packages/ipykernel_launcher.py:7: RuntimeWarning: divide by zero encountered in true_divide\n",
      "  import sys\n",
      "/home/pi/.virtualenvs/cv/lib/python3.7/site-packages/ipykernel_launcher.py:7: RuntimeWarning: invalid value encountered in multiply\n",
      "  import sys\n"
     ]
    }
   ],
   "source": [
    "# capture frames from the camera\n",
    "# for frame in camera.capture_continuous(capture, format=\"bgra\", use_video_port=True, resize=(img_width,img_height)):\n",
    "while True:\n",
    "    frame = get_frame(camera)\n",
    "    frame = cv2.resize(frame, (img_width, img_height))\n",
    "\n",
    "    pair_img = cv2.cvtColor (frame, cv2.COLOR_BGR2GRAY)\n",
    "    imgLeft = pair_img [0:img_height,0:int(img_width/2)] #Y+H and X+W\n",
    "    imgRight = pair_img [0:img_height,int(img_width/2):img_width] #Y+H and X+W\n",
    "    rectified_pair = calibration.rectify((imgLeft, imgRight))\n",
    "    disparity = stereo_depth_map(rectified_pair)\n",
    "    #disparity = simple_depth(rectified_pair, sbm)\n",
    "    disparity = cv2.flip(disparity, 0)\n",
    "    disparity = cv2.flip(disparity, 1)\n",
    "    # show the frame\n",
    "    cv2.imshow(\"left\", imgLeft)\n",
    "    cv2.imshow(\"right\", imgRight) \n",
    "    cv2.imshow(\"Image\", disparity)\n",
    "    if cv2.waitKey(1) & 0xFF == ord('q'):\n",
    "        break\n",
    "cv2.destroyAllWindows()\n"
   ]
  },
  {
   "cell_type": "code",
   "execution_count": null,
   "metadata": {},
   "outputs": [],
   "source": []
  }
 ],
 "metadata": {
  "kernelspec": {
   "display_name": "Python 3",
   "language": "python",
   "name": "python3"
  },
  "language_info": {
   "codemirror_mode": {
    "name": "ipython",
    "version": 3
   },
   "file_extension": ".py",
   "mimetype": "text/x-python",
   "name": "python",
   "nbconvert_exporter": "python",
   "pygments_lexer": "ipython3",
   "version": "3.7.3"
  }
 },
 "nbformat": 4,
 "nbformat_minor": 2
}
