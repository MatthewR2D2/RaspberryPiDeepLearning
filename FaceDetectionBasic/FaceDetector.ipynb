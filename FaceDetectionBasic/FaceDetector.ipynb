{
 "cells": [
  {
   "cell_type": "code",
   "execution_count": 1,
   "metadata": {},
   "outputs": [],
   "source": [
    "import warnings\n",
    "warnings.filterwarnings('ignore')\n",
    "import os\n",
    "import time\n",
    "import arducam_mipicamera as arducam\n",
    "import json\n",
    "import cv2\n",
    "import numpy as np"
   ]
  },
  {
   "cell_type": "code",
   "execution_count": 2,
   "metadata": {},
   "outputs": [],
   "source": [
    "# Camera settings\n",
    "def align_down(size, align):\n",
    "    return(size & ~((align) -1))\n",
    "def align_up(size, align):\n",
    "    return align_down(size + align - 1, align)\n",
    "\n",
    "def get_frame(camera):\n",
    "    frame = camera.capture(encoding = \"i420\")\n",
    "    fmt = camera.get_format()\n",
    "    height = int(align_up(fmt['height'], 16))\n",
    "    width = int(align_up(fmt['width'], 32))\n",
    "    image = frame.as_array.reshape(int(height * 1.5), width)\n",
    "    image = cv2.cvtColor(image, cv2.COLOR_YUV2BGR_I420)\n",
    "    image = image[: fmt['height'], :fmt['width']]\n",
    "    return image"
   ]
  },
  {
   "cell_type": "code",
   "execution_count": 3,
   "metadata": {},
   "outputs": [],
   "source": [
    "try:\n",
    "    camera_params = json.load(open('camera_params.txt', 'r'))\n",
    "except Exception as e:\n",
    "    print(e)\n",
    "    print('Missing Camera Parameters please Find camera parameiter')"
   ]
  },
  {
   "cell_type": "code",
   "execution_count": 4,
   "metadata": {},
   "outputs": [
    {
     "name": "stdout",
     "output_type": "stream",
     "text": [
      "{'height': 480, 'mode': 10, 'width': 1280}\n"
     ]
    }
   ],
   "source": [
    "print(camera_params)"
   ]
  },
  {
   "cell_type": "code",
   "execution_count": 5,
   "metadata": {},
   "outputs": [
    {
     "name": "stdout",
     "output_type": "stream",
     "text": [
      "Opeing Camera\n",
      "Setting Mode\n",
      "Getting format\n",
      "Current Mode:10, Resolution: 1280x480\n"
     ]
    }
   ],
   "source": [
    "# set up camera\n",
    "camera = arducam.mipi_camera()\n",
    "print('Opeing Camera')\n",
    "camera.init_camera()\n",
    "print('Setting Mode')\n",
    "mode = camera_params['mode']\n",
    "camera.set_mode(mode)\n",
    "print('Getting format')\n",
    "fmt = camera.get_format()\n",
    "print('Current Mode:{}, Resolution: {}x{}'.format(fmt['mode'], fmt['width'], fmt['height']))\n"
   ]
  },
  {
   "cell_type": "code",
   "execution_count": 6,
   "metadata": {},
   "outputs": [
    {
     "name": "stdout",
     "output_type": "stream",
     "text": [
      "Scaled image rsolution:1280x480\n"
     ]
    }
   ],
   "source": [
    "# Camera Settings\n",
    "cam_width = camera_params['width']\n",
    "cam_height = camera_params['height']\n",
    "\n",
    "# Buffer for capture image settings\n",
    "img_width = camera_params['width']\n",
    "img_height = camera_params['height']\n",
    "print('Scaled image rsolution:{}x{}'.format(str(img_width), str(img_height)))"
   ]
  },
  {
   "cell_type": "code",
   "execution_count": 7,
   "metadata": {},
   "outputs": [],
   "source": [
    "font = cv2.FONT_HERSHEY_SIMPLEX"
   ]
  },
  {
   "cell_type": "code",
   "execution_count": 8,
   "metadata": {},
   "outputs": [],
   "source": [
    "# set up needs resrouces\n",
    "face_cascade = cv2.CascadeClassifier('haarcascade_frontalface_default.xml')"
   ]
  },
  {
   "cell_type": "code",
   "execution_count": 9,
   "metadata": {},
   "outputs": [],
   "source": [
    "# test camera\n",
    "while True:\n",
    "    frame = get_frame(camera)\n",
    "    frame = cv2.resize(frame, (img_width, img_height))\n",
    "    \n",
    "    # face detection\n",
    "    gray = cv2.cvtColor(frame, cv2.COLOR_BGR2GRAY)\n",
    "    faces = face_cascade.detectMultiScale(gray, 1.1, 4)\n",
    "    \n",
    "    # Draw stuff\n",
    "    for (x, y, w, h) in faces:\n",
    "        cv2.rectangle(frame, (x, y), (x+w, y+h), (255, 0, 0), 2)\n",
    "    \n",
    "    cv2.imshow('Camera', frame)\n",
    "    key = cv2.waitKey(1) & 0xFF\n",
    "    \n",
    "    if(key == ord('q')):\n",
    "        break\n",
    "# Break out of while loop\n",
    "cv2.destroyAllWindows()    "
   ]
  },
  {
   "cell_type": "code",
   "execution_count": null,
   "metadata": {},
   "outputs": [],
   "source": []
  }
 ],
 "metadata": {
  "kernelspec": {
   "display_name": "Python 3",
   "language": "python",
   "name": "python3"
  },
  "language_info": {
   "codemirror_mode": {
    "name": "ipython",
    "version": 3
   },
   "file_extension": ".py",
   "mimetype": "text/x-python",
   "name": "python",
   "nbconvert_exporter": "python",
   "pygments_lexer": "ipython3",
   "version": "3.7.3"
  }
 },
 "nbformat": 4,
 "nbformat_minor": 2
}
